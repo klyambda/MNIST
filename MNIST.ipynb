{
  "nbformat": 4,
  "nbformat_minor": 0,
  "metadata": {
    "colab": {
      "name": "MNIST.ipynb",
      "provenance": [],
      "collapsed_sections": []
    },
    "kernelspec": {
      "name": "python3",
      "display_name": "Python 3"
    },
    "language_info": {
      "name": "python"
    },
    "accelerator": "GPU"
  },
  "cells": [
    {
      "cell_type": "code",
      "metadata": {
        "id": "dvjySWdhJeas"
      },
      "source": [
        "from sys import exit \n",
        "import numpy as np \n",
        "import matplotlib.pyplot as plt \n",
        "import keras, tensorflow as tf \n",
        "from keras.models import Model \n",
        "from keras.layers import Input, Dense, Flatten, Reshape, Conv2D, MaxPooling2D, BatchNormalization\n",
        "from keras.layers import Dropout, BatchNormalization\n",
        "import time\n",
        "from sklearn.metrics import precision_score, recall_score, f1_score, classification_report"
      ],
      "execution_count": 1,
      "outputs": []
    },
    {
      "cell_type": "code",
      "metadata": {
        "id": "sjFWzqmtIW3S"
      },
      "source": [
        "img_rows = img_cols = 28 \n",
        "pred = False\n",
        "mnist = False\n",
        "CNN = True\n",
        "\n",
        "# pathToData = 'mnist/' if mnist else 'emnist/' \n",
        "pathToData = 'drive/MyDrive/data/mnist/' if mnist else 'drive/MyDrive/data/emnist/'\n",
        "num_classes = 10 if mnist else 26\n",
        "if CNN: num_classes = 36\n",
        "\n",
        "epochs = 20 \n",
        "\n",
        "optimizer = 'Adam'\n",
        "loss = 'mse'\n",
        "fn_model = pathToData + 'history/' + optimizer + '_' + loss + '/lk3.h5'\n",
        "\n",
        "# pathToHistory = 'mnist/' if mnist else 'emnist/'\n",
        "if mnist:\n",
        "  pathToHistory = 'drive/MyDrive/data/mnist/history/' + optimizer + '_' + loss + '/'\n",
        "else:\n",
        "  pathToHistory = 'drive/MyDrive/data/emnist/history/' + optimizer + '_' + loss +'/'\n",
        "\n",
        "suff = '.txt' \n",
        "# Имена файлов, в которые сохраняется история обучения \n",
        "fn_loss = pathToHistory + 'loss_' + suff \n",
        "fn_acc = pathToHistory + 'acc_' + suff \n",
        "fn_val_loss = pathToHistory + 'val_loss_' + suff \n",
        "fn_val_acc = pathToHistory + 'val_acc_' + suff  "
      ],
      "execution_count": 2,
      "outputs": []
    },
    {
      "cell_type": "code",
      "metadata": {
        "id": "DUbsTn4JJibq"
      },
      "source": [
        "# Вывод графиков \n",
        "def one_plot(n, y_lb, loss_acc, val_loss_acc): \n",
        "    plt.subplot(1, 2, n) \n",
        "    if n == 1: \n",
        "        lb, lb2 = 'loss', 'val_loss' \n",
        "        yMin = 0 \n",
        "        yMax = 1.05 * max(max(loss_acc), max(val_loss_acc)) \n",
        "    else: \n",
        "        lb, lb2 = 'acc', 'val_acc' \n",
        "        yMin = min(min(loss_acc), min(val_loss_acc)) \n",
        "        yMax = 1.0 \n",
        "    plt.plot(loss_acc, color = 'r', label = lb, linestyle = '--') \n",
        "    plt.plot(val_loss_acc, color = 'g', label = lb2) \n",
        "    plt.ylabel(y_lb) \n",
        "    plt.xlabel('Эпоха') \n",
        "    plt.ylim([0.95 * yMin, yMax]) \n",
        "    plt.legend() "
      ],
      "execution_count": 3,
      "outputs": []
    },
    {
      "cell_type": "code",
      "metadata": {
        "id": "n6TxAxYi-LkE"
      },
      "source": [
        "def loadBinData(pathToData, img_rows, img_cols, mnist=mnist): \n",
        "    print('Загрузка данных из двоичных файлов...') \n",
        "    with open(pathToData + 'imagesTrain.bin', 'rb') as read_binary: \n",
        "        x_train = np.fromfile(read_binary, dtype = np.uint8) \n",
        "    with open(pathToData + 'labelsTrain.bin', 'rb') as read_binary: \n",
        "        y_train = np.fromfile(read_binary, dtype = np.uint8) \n",
        "    with open(pathToData + 'imagesTest.bin', 'rb') as read_binary: \n",
        "        x_test = np.fromfile(read_binary, dtype = np.uint8) \n",
        "    with open(pathToData + 'labelsTest.bin', 'rb') as read_binary: \n",
        "        y_test = np.fromfile(read_binary, dtype = np.uint8) \n",
        "\n",
        "    # Преобразование целочисленных данных в float32 и нормализация; данные лежат в диапазоне [0.0, 1.0] \n",
        "    x_train = np.array(x_train, dtype = 'float32') / 255 \n",
        "    x_test = np.array(x_test, dtype = 'float32') / 255 \n",
        "\n",
        "    x_train = x_train.reshape(-1, img_rows, img_cols) # 1 - оттенок серого цвета \n",
        "    x_test = x_test.reshape(-1, img_rows, img_cols)\n",
        "\n",
        "    print('Размер обучающего набора x_train {}'.format(x_train.shape)) \n",
        "    print('Размер тестового набора x_test {}'.format(x_test.shape)) \n",
        "\n",
        "    if not mnist and not CNN:\n",
        "        y_train -= 1\n",
        "        y_test -= 1\n",
        "\n",
        "    # Преобразование в категориальное представление: метки - числа из диапазона [0, 9](MNIST) или [0, 25](EMNIST) в двоичный вектор размера num_classes \n",
        "    # Так, в случае MNIST метка 5 (соответствует классу 6) будет преобразована в вектор [0. 0. 0. 0. 0. 0. 1. 0. 0. 0.] \n",
        "    print('Преобразуем массивы меток в категориальное представление') \n",
        "\n",
        "    num_classes = 10 if mnist else 26\n",
        "    if CNN: num_classes = 36\n",
        "\n",
        "    if not CNN:\n",
        "        y_train = tf.keras.utils.to_categorical(y_train, num_classes) \n",
        "        y_test = tf.keras.utils.to_categorical(y_test, num_classes) \n",
        "        print(y_train[0].shape) # (MNIST) Напечатает: 10\n",
        "    return x_train, y_train, x_test, y_test "
      ],
      "execution_count": 4,
      "outputs": []
    },
    {
      "cell_type": "code",
      "metadata": {
        "colab": {
          "base_uri": "https://localhost:8080/"
        },
        "id": "-mXSljm4-M1H",
        "outputId": "1767f98e-e025-4ccc-c3bf-1c1d5c283b2d"
      },
      "source": [
        "if CNN:\n",
        "    # объединяем наборы данных MNIST и EMNIST\n",
        "    x_train_m, y_train_m, x_test_m, y_test_m = loadBinData('drive/MyDrive/data/mnist/', img_rows, img_cols) \n",
        "    x_train_em, y_train_em, x_test_em, y_test_em = loadBinData('drive/MyDrive/data/emnist/', img_rows, img_cols)\n",
        "    mnist_n, mnist_m= x_train_m.shape[0], x_test_m.shape[0]\n",
        "    emnist_n, emnist_m = x_train_m.shape[0], x_test_m.shape[0]\n",
        "    x_train = np.concatenate((x_train_m, x_train_em))\n",
        "    x_test = np.concatenate((x_test_m, x_test_em))\n",
        "\n",
        "    y_train_em += 9\n",
        "    y_test_em += 9\n",
        "\n",
        "    y_train_m = tf.keras.utils.to_categorical(y_train_m, num_classes) \n",
        "    y_test_m = tf.keras.utils.to_categorical(y_test_m, num_classes) \n",
        "    y_train_em = tf.keras.utils.to_categorical(y_train_em, num_classes) \n",
        "    y_test_em = tf.keras.utils.to_categorical(y_test_em, num_classes) \n",
        "\n",
        "    y_train = np.concatenate((y_train_m, y_train_em))\n",
        "    y_test = np.concatenate((y_test_m, y_test_em))\n",
        "    print()\n",
        "    print('Размер получившегося набора x_train: {}'.format(x_train.shape))\n",
        "    print('Размер получившегося набора x_test: {}'.format(x_test.shape))\n",
        "else:\n",
        "    x_train, y_train, x_test, y_test = loadBinData(pathToData, img_rows, img_cols) \n",
        "    x_train.shape, y_train.shape\n",
        "  \n"
      ],
      "execution_count": 5,
      "outputs": [
        {
          "output_type": "stream",
          "name": "stdout",
          "text": [
            "Загрузка данных из двоичных файлов...\n",
            "Размер обучающего набора x_train (60000, 28, 28)\n",
            "Размер тестового набора x_test (10000, 28, 28)\n",
            "Преобразуем массивы меток в категориальное представление\n",
            "Загрузка данных из двоичных файлов...\n",
            "Размер обучающего набора x_train (124800, 28, 28)\n",
            "Размер тестового набора x_test (20800, 28, 28)\n",
            "Преобразуем массивы меток в категориальное представление\n",
            "\n",
            "Размер получившегося набора x_train: (184800, 28, 28)\n",
            "Размер получившегося набора x_test: (30800, 28, 28)\n"
          ]
        }
      ]
    },
    {
      "cell_type": "code",
      "metadata": {
        "colab": {
          "base_uri": "https://localhost:8080/",
          "height": 282
        },
        "id": "F9gsV1Yjml1J",
        "outputId": "8c400abb-6a50-4b18-af14-25d32ed7f65c"
      },
      "source": [
        "print(np.argmax(y_train[0]))\n",
        "plt.imshow(x_train[0].reshape(img_rows, img_cols), cmap = 'gray') \n",
        "plt.show()"
      ],
      "execution_count": 6,
      "outputs": [
        {
          "output_type": "stream",
          "name": "stdout",
          "text": [
            "5\n"
          ]
        },
        {
          "output_type": "display_data",
          "data": {
            "image/png": "[encoded data removed]",
            "text/plain": [
              "<Figure size 432x288 with 1 Axes>"
            ]
          },
          "metadata": {
            "needs_background": "light"
          }
        }
      ]
    },
    {
      "cell_type": "code",
      "metadata": {
        "id": "Usfk9z8cR3yZ"
      },
      "source": [
        "def recall(class_acc):\n",
        "    classes = class_acc.keys()\n",
        "    tp = []\n",
        "    fn = []\n",
        "    for cls in classes: \n",
        "        tp.append(class_acc[cls][0])\n",
        "        fn.append(class_acc[cls][1] - class_acc[cls][0])\n",
        "    tp = np.array([tp])\n",
        "    fn = np.array([fn])\n",
        "\n",
        "    return tp / (tp + fn)"
      ],
      "execution_count": 7,
      "outputs": []
    },
    {
      "cell_type": "code",
      "metadata": {
        "colab": {
          "base_uri": "https://localhost:8080/"
        },
        "id": "zMFR2FWj-PX2",
        "outputId": "d23912d3-d464-409c-f42c-ddb9c7b49ec5"
      },
      "source": [
        "# Определяем форму входных данных \n",
        "input_shape = (img_rows, img_cols, 1) \n",
        "# \n",
        "# Создание модели нейронной сети \n",
        "inp = Input(shape = input_shape, name='input') # Входной слой \n",
        "x = inp \n",
        "\n",
        "\n",
        "if CNN:\n",
        "    x = Conv2D(32, kernel_size=(5,5), strides=(1,1), padding='same', activation='relu', input_shape=input_shape, name='conv2d_1')(x)\n",
        "    x = MaxPooling2D(pool_size=(2, 2), strides=(2, 2), padding='same', name='max_pooling2d_1')(x)\n",
        "    x = Conv2D(64, kernel_size=(3,3), strides=(1,1), activation='relu', name='conv2d_2')(x)\n",
        "    x = MaxPooling2D(pool_size=(2, 2), strides=(2, 2), name='max_pooling2d_2')(x)\n",
        "\n",
        "\n",
        "# Преобразование 2D в 1D \n",
        "x = Flatten(name='flatten_1')(x)\n",
        "# добавляем слой Dropout\n",
        "x = Dropout(rate=0.2, name='dropout_1')(x)\n",
        "x = Dense(units=32, activation='relu', name='dense_1')(x)\n",
        "output = Dense(num_classes, activation = 'softmax', name='pred')(x) \n",
        "model = Model(inputs = inp, outputs = output) \n",
        "model.summary()\n",
        "model.compile(optimizer = optimizer, loss = loss, metrics='accuracy') "
      ],
      "execution_count": 8,
      "outputs": [
        {
          "output_type": "stream",
          "name": "stdout",
          "text": [
            "Model: \"model\"\n",
            "_________________________________________________________________\n",
            " Layer (type)                Output Shape              Param #   \n",
            "=================================================================\n",
            " input (InputLayer)          [(None, 28, 28, 1)]       0         \n",
            "                                                                 \n",
            " conv2d_1 (Conv2D)           (None, 28, 28, 32)        832       \n",
            "                                                                 \n",
            " max_pooling2d_1 (MaxPooling  (None, 14, 14, 32)       0         \n",
            " 2D)                                                             \n",
            "                                                                 \n",
            " conv2d_2 (Conv2D)           (None, 12, 12, 64)        18496     \n",
            "                                                                 \n",
            " max_pooling2d_2 (MaxPooling  (None, 6, 6, 64)         0         \n",
            " 2D)                                                             \n",
            "                                                                 \n",
            " flatten_1 (Flatten)         (None, 2304)              0         \n",
            "                                                                 \n",
            " dropout_1 (Dropout)         (None, 2304)              0         \n",
            "                                                                 \n",
            " dense_1 (Dense)             (None, 32)                73760     \n",
            "                                                                 \n",
            " pred (Dense)                (None, 36)                1188      \n",
            "                                                                 \n",
            "=================================================================\n",
            "Total params: 94,276\n",
            "Trainable params: 94,276\n",
            "Non-trainable params: 0\n",
            "_________________________________________________________________\n"
          ]
        }
      ]
    },
    {
      "cell_type": "code",
      "metadata": {
        "colab": {
          "base_uri": "https://localhost:8080/"
        },
        "id": "eQ-pPQoE-VE1",
        "outputId": "8345c688-fef1-4cc4-8c1a-fe979058b760"
      },
      "source": [
        "# Обучение нейронной сети\n",
        "start = time.time()\n",
        "history = model.fit(x_train, y_train, batch_size=128, epochs=epochs, \n",
        "                    verbose=2, validation_data=(x_test, y_test))\n",
        "finish = time.time()\n",
        "print('Elapsed time: {}'.format(finish - start))\n",
        "print('Модель сохранена в файле', fn_model)\n",
        "model.save(fn_model)\n",
        "# Запись истории обучения в текстовые файлы\n",
        "history = history.history\n",
        "##for itm in history.items(): print(itm)\n",
        "with open(fn_loss, 'w') as output:\n",
        "    for val in history['loss']: output.write(str(val) + '\\n')\n",
        "with open(fn_acc, 'w') as output:\n",
        "    for val in history['accuracy']: output.write(str(val) + '\\n')\n",
        "with open(fn_val_loss, 'w') as output:\n",
        "    for val in history['val_loss']: output.write(str(val) + '\\n')\n",
        "with open(fn_val_acc, 'w') as output:\n",
        "    for val in history['val_accuracy']: output.write(str(val) + '\\n')"
      ],
      "execution_count": 9,
      "outputs": [
        {
          "output_type": "stream",
          "name": "stdout",
          "text": [
            "Epoch 1/20\n",
            "1444/1444 - 15s - loss: 0.0076 - accuracy: 0.8018 - val_loss: 0.0036 - val_accuracy: 0.9128 - 15s/epoch - 10ms/step\n",
            "Epoch 2/20\n",
            "1444/1444 - 7s - loss: 0.0034 - accuracy: 0.9162 - val_loss: 0.0028 - val_accuracy: 0.9331 - 7s/epoch - 5ms/step\n",
            "Epoch 3/20\n",
            "1444/1444 - 6s - loss: 0.0028 - accuracy: 0.9332 - val_loss: 0.0024 - val_accuracy: 0.9403 - 6s/epoch - 4ms/step\n",
            "Epoch 4/20\n",
            "1444/1444 - 6s - loss: 0.0024 - accuracy: 0.9413 - val_loss: 0.0023 - val_accuracy: 0.9434 - 6s/epoch - 4ms/step\n",
            "Epoch 5/20\n",
            "1444/1444 - 6s - loss: 0.0022 - accuracy: 0.9468 - val_loss: 0.0021 - val_accuracy: 0.9474 - 6s/epoch - 4ms/step\n",
            "Epoch 6/20\n",
            "1444/1444 - 6s - loss: 0.0021 - accuracy: 0.9491 - val_loss: 0.0021 - val_accuracy: 0.9486 - 6s/epoch - 4ms/step\n",
            "Epoch 7/20\n",
            "1444/1444 - 6s - loss: 0.0020 - accuracy: 0.9521 - val_loss: 0.0020 - val_accuracy: 0.9514 - 6s/epoch - 4ms/step\n",
            "Epoch 8/20\n",
            "1444/1444 - 6s - loss: 0.0019 - accuracy: 0.9546 - val_loss: 0.0021 - val_accuracy: 0.9486 - 6s/epoch - 4ms/step\n",
            "Epoch 9/20\n",
            "1444/1444 - 6s - loss: 0.0018 - accuracy: 0.9562 - val_loss: 0.0020 - val_accuracy: 0.9519 - 6s/epoch - 5ms/step\n",
            "Epoch 10/20\n",
            "1444/1444 - 6s - loss: 0.0017 - accuracy: 0.9580 - val_loss: 0.0020 - val_accuracy: 0.9528 - 6s/epoch - 4ms/step\n",
            "Epoch 11/20\n",
            "1444/1444 - 6s - loss: 0.0017 - accuracy: 0.9591 - val_loss: 0.0020 - val_accuracy: 0.9518 - 6s/epoch - 4ms/step\n",
            "Epoch 12/20\n",
            "1444/1444 - 8s - loss: 0.0016 - accuracy: 0.9602 - val_loss: 0.0019 - val_accuracy: 0.9537 - 8s/epoch - 5ms/step\n",
            "Epoch 13/20\n",
            "1444/1444 - 7s - loss: 0.0016 - accuracy: 0.9612 - val_loss: 0.0019 - val_accuracy: 0.9538 - 7s/epoch - 5ms/step\n",
            "Epoch 14/20\n",
            "1444/1444 - 7s - loss: 0.0016 - accuracy: 0.9625 - val_loss: 0.0019 - val_accuracy: 0.9538 - 7s/epoch - 5ms/step\n",
            "Epoch 15/20\n",
            "1444/1444 - 6s - loss: 0.0015 - accuracy: 0.9634 - val_loss: 0.0019 - val_accuracy: 0.9539 - 6s/epoch - 4ms/step\n",
            "Epoch 16/20\n",
            "1444/1444 - 7s - loss: 0.0015 - accuracy: 0.9636 - val_loss: 0.0019 - val_accuracy: 0.9533 - 7s/epoch - 5ms/step\n",
            "Epoch 17/20\n",
            "1444/1444 - 6s - loss: 0.0015 - accuracy: 0.9644 - val_loss: 0.0019 - val_accuracy: 0.9548 - 6s/epoch - 4ms/step\n",
            "Epoch 18/20\n",
            "1444/1444 - 6s - loss: 0.0014 - accuracy: 0.9649 - val_loss: 0.0019 - val_accuracy: 0.9557 - 6s/epoch - 4ms/step\n",
            "Epoch 19/20\n",
            "1444/1444 - 7s - loss: 0.0014 - accuracy: 0.9654 - val_loss: 0.0020 - val_accuracy: 0.9521 - 7s/epoch - 5ms/step\n",
            "Epoch 20/20\n",
            "1444/1444 - 6s - loss: 0.0014 - accuracy: 0.9662 - val_loss: 0.0019 - val_accuracy: 0.9554 - 6s/epoch - 4ms/step\n",
            "Elapsed time: 143.9797465801239\n",
            "Модель сохранена в файле drive/MyDrive/data/emnist/history/Adam_mse/lk3.h5\n"
          ]
        }
      ]
    },
    {
      "cell_type": "code",
      "metadata": {
        "colab": {
          "base_uri": "https://localhost:8080/",
          "height": 308
        },
        "id": "pC_JEYPv-XhE",
        "outputId": "792472b4-bfa9-40c4-d295-749271f4d93b"
      },
      "source": [
        "# Вывод графиков обучения \n",
        "plt.figure(figsize = (9, 4)) \n",
        "plt.subplots_adjust(wspace = 0.5) \n",
        "one_plot(1, 'Потери', history['loss'], history['val_loss']) \n",
        "one_plot(2, 'Точность', history['accuracy'], history['val_accuracy']) \n",
        "plt.suptitle('Потери и точность') \n",
        "plt.show() "
      ],
      "execution_count": 10,
      "outputs": [
        {
          "output_type": "display_data",
          "data": {
            "image/png": "[encoded data removed]",
            "text/plain": [
              "<Figure size 648x288 with 2 Axes>"
            ]
          },
          "metadata": {
            "needs_background": "light"
          }
        }
      ]
    },
    {
      "cell_type": "code",
      "metadata": {
        "id": "SOxc18GjU8sx",
        "colab": {
          "base_uri": "https://localhost:8080/",
          "height": 856
        },
        "outputId": "042d19ea-b897-4515-e86f-70a60e7fdc3c"
      },
      "source": [
        "tf.keras.utils.plot_model(model, to_file='cnn_graph.png')"
      ],
      "execution_count": 11,
      "outputs": [
        {
          "output_type": "execute_result",
          "data": {
            "image/png": "[encoded data removed]",
            "text/plain": [
              "<IPython.core.display.Image object>"
            ]
          },
          "metadata": {},
          "execution_count": 11
        }
      ]
    },
    {
      "cell_type": "code",
      "source": [
        "from keras.models import load_model \n",
        "model = load_model(fn_model)"
      ],
      "metadata": {
        "id": "Cgix69WaYSVe"
      },
      "execution_count": 12,
      "outputs": []
    },
    {
      "cell_type": "code",
      "source": [
        "# Оценка модели НС на тестовых данных \n",
        "score_test = model.evaluate(x_test, y_test, verbose = 1) \n",
        "# Вывод потерь и точности \n",
        "print('Потери при тестировании:', round(score_test[0], 4)) \n",
        "print('Точность при тестировании: {}{}'.format(score_test[1] * 100, '%')) \n",
        "score_train = model.evaluate(x_train, y_train, verbose = 1) \n",
        "# Вывод потерь и точности \n",
        "print('Потери на обучающем наборе:', round(score_train[0], 4)) \n",
        "print('Точность на обучющем наборе: {}{}'.format(score_train[1] * 100, '%')) \n",
        "# Прогноз \n",
        "y_pred = model.predict(x_test)\n",
        "# Заносим в массив predicted_classes метки классов, предсказанных моделью НС \n",
        "# предусмотрим вывод не только цифр, но и букв\n",
        "if mnist:\n",
        "    predicted_classes = np.array([np.argmax(m) for m in y_pred])\n",
        "    true_classes = np.array([np.argmax(m) for m in y_test])\n",
        "else:\n",
        "    predicted_classes = np.array([chr(np.argmax(m) + 65) for m in y_pred]) \n",
        "    true_classes = np.array([chr(np.argmax(m) + 65) for m in y_test]) \n",
        "n_test = len(y_test) \n",
        "# Число верно классифицированных изображений \n",
        "true_classified = np.sum(predicted_classes == true_classes) \n",
        "# Число ошибочно классифицированных изображений \n",
        "false_classified = n_test - true_classified \n",
        "acc = 100.0 * true_classified / n_test \n",
        "print('Точность: {}{}'.format( acc, '%')) \n",
        "print('Неверно классифицированно:', false_classified) "
      ],
      "metadata": {
        "colab": {
          "base_uri": "https://localhost:8080/"
        },
        "id": "V7A8t2ZLWh5M",
        "outputId": "9fad6ab4-876f-4b65-cc97-8af31abd3e65"
      },
      "execution_count": 13,
      "outputs": [
        {
          "output_type": "stream",
          "name": "stdout",
          "text": [
            "963/963 [==============================] - 2s 2ms/step - loss: 0.0019 - accuracy: 0.9554\n",
            "Потери при тестировании: 0.0019\n",
            "Точность при тестировании: 95.53896188735962%\n",
            "5775/5775 [==============================] - 15s 3ms/step - loss: 0.0011 - accuracy: 0.9733\n",
            "Потери на обучающем наборе: 0.0011\n",
            "Точность на обучющем наборе: 97.32738137245178%\n",
            "Точность: 95.53896103896103%\n",
            "Неверно классифицированно: 1374\n"
          ]
        }
      ]
    },
    {
      "cell_type": "code",
      "source": [
        ""
      ],
      "metadata": {
        "id": "xD9hR8A4XahU"
      },
      "execution_count": 13,
      "outputs": []
    }
  ]
}